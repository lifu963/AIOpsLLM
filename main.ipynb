{
 "cells": [
  {
   "cell_type": "markdown",
   "source": [
    "# LLM"
   ],
   "metadata": {
    "collapsed": false
   }
  },
  {
   "cell_type": "code",
   "execution_count": null,
   "outputs": [],
   "source": [
    "from llm import LLM\n",
    "from llm.schema import ROLE, SYSTEM, USER, CONTENT\n",
    "\n",
    "from settings import MODEL, QWEN_URL, DASHSCOPE_API_KEY"
   ],
   "metadata": {
    "collapsed": false,
    "ExecuteTime": {
     "start_time": "2024-10-05T20:21:06.214261Z",
     "end_time": "2024-10-05T20:21:06.263235Z"
    }
   }
  },
  {
   "cell_type": "code",
   "execution_count": null,
   "outputs": [],
   "source": [
    "llm = LLM(model=MODEL, base_url=QWEN_URL, api_key=DASHSCOPE_API_KEY)"
   ],
   "metadata": {
    "collapsed": false,
    "ExecuteTime": {
     "start_time": "2024-10-05T20:21:06.219462Z",
     "end_time": "2024-10-05T20:21:06.384108Z"
    }
   }
  },
  {
   "cell_type": "code",
   "execution_count": null,
   "outputs": [],
   "source": [
    "messages = [\n",
    "    {ROLE: SYSTEM, CONTENT: \"You are a helpful assistant.\"},\n",
    "    {ROLE: USER, CONTENT: \"用json格式输出a=1\"}\n",
    "]"
   ],
   "metadata": {
    "collapsed": false,
    "ExecuteTime": {
     "start_time": "2024-10-05T20:21:06.248353Z",
     "end_time": "2024-10-05T20:21:06.389657Z"
    }
   }
  },
  {
   "cell_type": "code",
   "execution_count": null,
   "outputs": [],
   "source": [
    "completion = llm.chat(messages = messages,  response_format={\"type\": \"json_object\"})"
   ],
   "metadata": {
    "collapsed": false,
    "ExecuteTime": {
     "start_time": "2024-09-28T22:05:11.609363Z",
     "end_time": "2024-09-28T22:05:12.897824Z"
    }
   }
  },
  {
   "cell_type": "code",
   "execution_count": null,
   "outputs": [],
   "source": [
    "print(completion.choices[0].message.content)"
   ],
   "metadata": {
    "collapsed": false,
    "ExecuteTime": {
     "start_time": "2024-09-28T22:05:13.518265Z",
     "end_time": "2024-09-28T22:05:13.523417Z"
    }
   }
  },
  {
   "cell_type": "markdown",
   "source": [
    "# Summarizer"
   ],
   "metadata": {
    "collapsed": false
   }
  },
  {
   "cell_type": "code",
   "execution_count": null,
   "outputs": [],
   "source": [
    "from utils.summarizer import DocumentSummarizer"
   ],
   "metadata": {
    "collapsed": false,
    "ExecuteTime": {
     "start_time": "2024-09-28T22:08:33.803857Z",
     "end_time": "2024-09-28T22:08:35.796347Z"
    }
   }
  },
  {
   "cell_type": "code",
   "execution_count": null,
   "outputs": [],
   "source": [
    "summarizer = DocumentSummarizer()"
   ],
   "metadata": {
    "collapsed": false,
    "ExecuteTime": {
     "start_time": "2024-09-28T22:08:35.796347Z",
     "end_time": "2024-09-28T22:08:36.103582Z"
    }
   }
  },
  {
   "cell_type": "code",
   "execution_count": null,
   "outputs": [],
   "source": [
    "summarizer('./models/AlexNet.md')"
   ],
   "metadata": {
    "collapsed": false,
    "ExecuteTime": {
     "start_time": "2024-09-28T22:08:36.950343Z",
     "end_time": "2024-09-28T22:08:43.265294Z"
    }
   }
  },
  {
   "cell_type": "markdown",
   "source": [
    "# VectorStoreManager"
   ],
   "metadata": {
    "collapsed": false
   }
  },
  {
   "cell_type": "code",
   "execution_count": null,
   "outputs": [],
   "source": [
    "from utils.vector_store_manager import VectorStoreManager"
   ],
   "metadata": {
    "collapsed": false,
    "ExecuteTime": {
     "start_time": "2024-10-04T17:47:54.012528Z",
     "end_time": "2024-10-04T17:47:59.115105Z"
    }
   }
  },
  {
   "cell_type": "code",
   "execution_count": null,
   "outputs": [],
   "source": [
    "vector_store_manager = VectorStoreManager()"
   ],
   "metadata": {
    "collapsed": false,
    "ExecuteTime": {
     "start_time": "2024-10-04T17:49:21.608051Z",
     "end_time": "2024-10-04T17:49:21.612200Z"
    }
   }
  },
  {
   "cell_type": "code",
   "execution_count": null,
   "outputs": [],
   "source": [
    "vector_index = vector_store_manager.load_from_storage()"
   ],
   "metadata": {
    "collapsed": false,
    "ExecuteTime": {
     "start_time": "2024-10-04T17:49:23.624934Z",
     "end_time": "2024-10-04T17:49:27.702898Z"
    }
   }
  },
  {
   "cell_type": "markdown",
   "source": [
    "# QueryVectorRetriever"
   ],
   "metadata": {
    "collapsed": false
   }
  },
  {
   "cell_type": "code",
   "execution_count": null,
   "outputs": [],
   "source": [
    "query = \"用于数字识别的数据集\""
   ],
   "metadata": {
    "collapsed": false,
    "ExecuteTime": {
     "start_time": "2024-10-04T20:36:24.419594Z",
     "end_time": "2024-10-04T20:36:24.422105Z"
    }
   }
  },
  {
   "cell_type": "code",
   "execution_count": null,
   "outputs": [],
   "source": [
    "from utils.retriever.query_vector_retriever import QueryVectorRetriever"
   ],
   "metadata": {
    "collapsed": false,
    "ExecuteTime": {
     "start_time": "2024-10-04T23:18:42.888001Z",
     "end_time": "2024-10-04T23:18:44.591803Z"
    }
   }
  },
  {
   "cell_type": "code",
   "execution_count": null,
   "outputs": [],
   "source": [
    "vector_retriever = QueryVectorRetriever(vector_index)"
   ],
   "metadata": {
    "collapsed": false,
    "ExecuteTime": {
     "start_time": "2024-10-04T20:36:48.720564Z",
     "end_time": "2024-10-04T20:36:48.744440Z"
    }
   }
  },
  {
   "cell_type": "code",
   "execution_count": null,
   "outputs": [],
   "source": [
    "res = vector_retriever.process(query)"
   ],
   "metadata": {
    "collapsed": false,
    "ExecuteTime": {
     "start_time": "2024-10-04T20:36:56.659703Z",
     "end_time": "2024-10-04T20:36:57.394438Z"
    }
   }
  },
  {
   "cell_type": "markdown",
   "source": [
    "# QueryAPIRetriever"
   ],
   "metadata": {
    "collapsed": false
   }
  },
  {
   "cell_type": "code",
   "execution_count": null,
   "outputs": [],
   "source": [
    "from utils.retriever.query_api_retriever import QueryAPIRetriever"
   ],
   "metadata": {
    "collapsed": false,
    "ExecuteTime": {
     "start_time": "2024-10-04T23:20:57.918482Z",
     "end_time": "2024-10-04T23:20:59.348038Z"
    }
   }
  },
  {
   "cell_type": "code",
   "execution_count": null,
   "outputs": [],
   "source": [
    "api_retriever = QueryAPIRetriever()"
   ],
   "metadata": {
    "collapsed": false,
    "ExecuteTime": {
     "start_time": "2024-10-04T23:21:00.311028Z",
     "end_time": "2024-10-04T23:21:00.337140Z"
    }
   }
  },
  {
   "cell_type": "code",
   "execution_count": null,
   "outputs": [],
   "source": [
    "query = \"平台有多少个组件？\""
   ],
   "metadata": {
    "collapsed": false,
    "ExecuteTime": {
     "start_time": "2024-10-05T00:58:36.672156Z",
     "end_time": "2024-10-05T00:58:36.676478Z"
    }
   }
  },
  {
   "cell_type": "code",
   "execution_count": null,
   "outputs": [],
   "source": [
    "res = api_retriever.process(query)"
   ],
   "metadata": {
    "collapsed": false,
    "ExecuteTime": {
     "start_time": "2024-10-04T23:21:01.656505Z",
     "end_time": "2024-10-04T23:21:02.921692Z"
    }
   }
  },
  {
   "cell_type": "markdown",
   "source": [
    "# QueryRetriever"
   ],
   "metadata": {
    "collapsed": false
   }
  },
  {
   "cell_type": "code",
   "execution_count": null,
   "outputs": [],
   "source": [
    "from utils.retriever.query_retriever import QueryRetriever"
   ],
   "metadata": {
    "collapsed": false,
    "ExecuteTime": {
     "start_time": "2024-10-05T17:02:33.112609Z",
     "end_time": "2024-10-05T17:02:41.500355Z"
    }
   }
  },
  {
   "cell_type": "code",
   "execution_count": null,
   "outputs": [],
   "source": [
    "retriever = QueryRetriever()"
   ],
   "metadata": {
    "collapsed": false,
    "ExecuteTime": {
     "start_time": "2024-10-05T17:02:42.954329Z",
     "end_time": "2024-10-05T17:02:47.489492Z"
    }
   }
  },
  {
   "cell_type": "code",
   "execution_count": null,
   "outputs": [],
   "source": [
    "query = \"平台有多少个组件？\"\n",
    "# query = \"推荐个用于汽车目标检测的模型？\""
   ],
   "metadata": {
    "collapsed": false,
    "ExecuteTime": {
     "start_time": "2024-10-05T17:03:44.544077Z",
     "end_time": "2024-10-05T17:03:44.553930Z"
    }
   }
  },
  {
   "cell_type": "code",
   "execution_count": null,
   "outputs": [],
   "source": [
    "res = retriever.process(query)"
   ],
   "metadata": {
    "collapsed": false,
    "ExecuteTime": {
     "start_time": "2024-10-05T17:03:45.224751Z",
     "end_time": "2024-10-05T17:03:47.817511Z"
    }
   }
  },
  {
   "cell_type": "markdown",
   "source": [
    "# ML_Agent"
   ],
   "metadata": {
    "collapsed": false
   }
  },
  {
   "cell_type": "code",
   "execution_count": null,
   "outputs": [],
   "source": [
    "from llm import LLM\n",
    "from settings import MODEL, QWEN_URL, DASHSCOPE_API_KEY"
   ],
   "metadata": {
    "collapsed": false,
    "ExecuteTime": {
     "start_time": "2024-10-05T18:03:33.352912Z",
     "end_time": "2024-10-05T18:03:34.127636Z"
    }
   }
  },
  {
   "cell_type": "code",
   "execution_count": null,
   "outputs": [],
   "source": [
    "llm = LLM(model=MODEL, base_url=QWEN_URL, api_key=DASHSCOPE_API_KEY)"
   ],
   "metadata": {
    "collapsed": false,
    "ExecuteTime": {
     "start_time": "2024-10-05T18:03:34.129140Z",
     "end_time": "2024-10-05T18:03:34.159909Z"
    }
   }
  },
  {
   "cell_type": "code",
   "execution_count": 15,
   "outputs": [],
   "source": [
    "from agent.ml_agent import MLAgent"
   ],
   "metadata": {
    "collapsed": false,
    "ExecuteTime": {
     "start_time": "2024-10-05T20:30:56.387891Z",
     "end_time": "2024-10-05T20:30:56.616760Z"
    }
   }
  },
  {
   "cell_type": "code",
   "execution_count": 16,
   "outputs": [],
   "source": [
    "ml_agent = MLAgent(llm)"
   ],
   "metadata": {
    "collapsed": false,
    "ExecuteTime": {
     "start_time": "2024-10-05T20:30:57.232518Z",
     "end_time": "2024-10-05T20:30:57.238078Z"
    }
   }
  },
  {
   "cell_type": "code",
   "execution_count": 17,
   "outputs": [],
   "source": [
    "from agent import ResponseStatus"
   ],
   "metadata": {
    "collapsed": false,
    "ExecuteTime": {
     "start_time": "2024-10-05T20:30:57.933200Z",
     "end_time": "2024-10-05T20:30:57.938007Z"
    }
   }
  },
  {
   "cell_type": "code",
   "execution_count": 18,
   "outputs": [
    {
     "name": "stdout",
     "output_type": "stream",
     "text": [
      "任务类型:object_detection\n",
      "数据集:COCO\n",
      "模型:R-CNN\n",
      "步骤:['download_model', 'tune', 'train', 'validate', 'upload_model']\n",
      "download_model 组件：download_model\n",
      "tune 组件：tune_R-CNN_COCO\n",
      "train 组件：train_R-CNN_COCO\n",
      "validate 组件：validate_R-CNN_COCO\n",
      "upload_model 组件：upload_model\n",
      "工作流已生成\n"
     ]
    }
   ],
   "source": [
    "res = ''\n",
    "for output in ml_agent(\"我想部署一个精度 > 95% 的汽车目标检测模型\"):\n",
    "    if output[0] != ResponseStatus.IMG:\n",
    "        print(output[1])\n",
    "    if output[0] == ResponseStatus.FIN:\n",
    "        res = output[1]"
   ],
   "metadata": {
    "collapsed": false,
    "ExecuteTime": {
     "start_time": "2024-10-05T20:30:58.737952Z",
     "end_time": "2024-10-05T20:31:12.383535Z"
    }
   }
  },
  {
   "cell_type": "markdown",
   "source": [
    "# ReactAgent"
   ],
   "metadata": {
    "collapsed": false
   }
  },
  {
   "cell_type": "code",
   "execution_count": null,
   "outputs": [],
   "source": [
    "from agent.react_agent import ReActAgent\n",
    "from llm import LLM\n",
    "from llm_tools.code_interpreter import CodeInterpreterTool\n",
    "from llm_tools.image_gen import ImageGenTool\n",
    "from llm_tools.weather import WeatherTool\n",
    "from llm_tools.retrieval import RetrievalTool\n",
    "from settings import QWEN_URL, DASHSCOPE_API_KEY, MODEL"
   ],
   "metadata": {
    "collapsed": false,
    "ExecuteTime": {
     "start_time": "2024-10-05T20:21:17.964276Z",
     "end_time": "2024-10-05T20:21:24.827237Z"
    }
   }
  },
  {
   "cell_type": "code",
   "execution_count": null,
   "outputs": [],
   "source": [
    "llm = LLM(model=MODEL, base_url=QWEN_URL, api_key=DASHSCOPE_API_KEY)"
   ],
   "metadata": {
    "collapsed": false,
    "ExecuteTime": {
     "start_time": "2024-10-05T20:21:45.660640Z",
     "end_time": "2024-10-05T20:21:45.693965Z"
    }
   }
  },
  {
   "cell_type": "code",
   "execution_count": null,
   "outputs": [],
   "source": [
    "tools = [CodeInterpreterTool(), WeatherTool(), ImageGenTool(), RetrievalTool()]\n",
    "agent = ReActAgent(llm=llm, tools=tools)"
   ],
   "metadata": {
    "collapsed": false,
    "ExecuteTime": {
     "start_time": "2024-10-05T20:21:47.537200Z",
     "end_time": "2024-10-05T20:21:51.634042Z"
    }
   }
  },
  {
   "cell_type": "code",
   "execution_count": null,
   "outputs": [],
   "source": [
    "from agent.schema import ResponseStatus\n",
    "from llm.schema import ROLE, USER, CONTENT"
   ],
   "metadata": {
    "collapsed": false,
    "ExecuteTime": {
     "start_time": "2024-10-05T20:21:55.193808Z",
     "end_time": "2024-10-05T20:21:55.197790Z"
    }
   }
  },
  {
   "cell_type": "code",
   "execution_count": null,
   "outputs": [],
   "source": [
    "messages = [{ROLE: USER, CONTENT: \"莆田温度的二次方是多少？\"}]"
   ],
   "metadata": {
    "collapsed": false,
    "ExecuteTime": {
     "start_time": "2024-10-05T20:21:55.916876Z",
     "end_time": "2024-10-05T20:21:55.923974Z"
    }
   }
  },
  {
   "cell_type": "code",
   "execution_count": null,
   "outputs": [],
   "source": [
    "res = ''\n",
    "for output in agent.auto_run(messages):\n",
    "    if output[0] != ResponseStatus.FIN:\n",
    "        print(output[1])\n",
    "    else:\n",
    "        res = output[1]"
   ],
   "metadata": {
    "collapsed": false,
    "ExecuteTime": {
     "start_time": "2024-10-05T20:21:56.552924Z",
     "end_time": "2024-10-05T20:22:08.967702Z"
    }
   }
  },
  {
   "cell_type": "markdown",
   "source": [
    "# AgentRouter"
   ],
   "metadata": {
    "collapsed": false
   }
  },
  {
   "cell_type": "code",
   "execution_count": 1,
   "outputs": [],
   "source": [
    "from llm import LLM\n",
    "from settings import MODEL, QWEN_URL, DASHSCOPE_API_KEY\n",
    "from agent.agent_router import AgentRouter"
   ],
   "metadata": {
    "collapsed": false,
    "ExecuteTime": {
     "start_time": "2024-10-08T20:17:48.084487Z",
     "end_time": "2024-10-08T20:17:53.976720Z"
    }
   }
  },
  {
   "cell_type": "code",
   "execution_count": 2,
   "outputs": [],
   "source": [
    "llm = LLM(model=MODEL, base_url=QWEN_URL, api_key=DASHSCOPE_API_KEY)"
   ],
   "metadata": {
    "collapsed": false,
    "ExecuteTime": {
     "start_time": "2024-10-08T20:18:00.874934Z",
     "end_time": "2024-10-08T20:18:00.906342Z"
    }
   }
  },
  {
   "cell_type": "code",
   "execution_count": 3,
   "outputs": [
    {
     "name": "stderr",
     "output_type": "stream",
     "text": [
      "2024-10-08 20:18:05,365 - vector_store_manager.py - 51 - INFO - Vector store successfully loaded from ./storage/docs\n"
     ]
    }
   ],
   "source": [
    "router = AgentRouter(llm=llm)"
   ],
   "metadata": {
    "collapsed": false,
    "ExecuteTime": {
     "start_time": "2024-10-08T20:18:01.680072Z",
     "end_time": "2024-10-08T20:18:05.714633Z"
    }
   }
  },
  {
   "cell_type": "code",
   "execution_count": 4,
   "outputs": [],
   "source": [
    "query = \"平台有多少组件?\""
   ],
   "metadata": {
    "collapsed": false,
    "ExecuteTime": {
     "start_time": "2024-10-08T20:18:09.731071Z",
     "end_time": "2024-10-08T20:18:09.732586Z"
    }
   }
  },
  {
   "cell_type": "code",
   "execution_count": 5,
   "outputs": [
    {
     "name": "stdout",
     "output_type": "stream",
     "text": [
      "(<ResponseStatus.STR: 1>, '平台目前共有65个组件。这些组件涵盖了数据处理、特征工程、模型训练、模型评估等多个方面，可以帮助您快速构建和部署机器学习应用。如果您有更具体的需求或问题，欢迎随时提问！')\n"
     ]
    }
   ],
   "source": [
    "for output in router(query):\n",
    "    print(output)"
   ],
   "metadata": {
    "collapsed": false,
    "ExecuteTime": {
     "start_time": "2024-10-08T20:18:11.724953Z",
     "end_time": "2024-10-08T20:18:19.381422Z"
    }
   }
  }
 ],
 "metadata": {
  "kernelspec": {
   "display_name": "Python 3",
   "language": "python",
   "name": "python3"
  },
  "language_info": {
   "codemirror_mode": {
    "name": "ipython",
    "version": 2
   },
   "file_extension": ".py",
   "mimetype": "text/x-python",
   "name": "python",
   "nbconvert_exporter": "python",
   "pygments_lexer": "ipython2",
   "version": "2.7.6"
  }
 },
 "nbformat": 4,
 "nbformat_minor": 0
}
